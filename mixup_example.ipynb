{
 "cells": [
  {
   "cell_type": "code",
   "execution_count": 2,
   "metadata": {},
   "outputs": [
    {
     "name": "stderr",
     "output_type": "stream",
     "text": [
      "",
     ]
    }
   ],
   "source": [
    "import torch\n",
    "from torchvision.datasets import FakeData\n",
    "from torchvision.transforms import v2\n",
    "from torch.nn.functional import one_hot\n",
    "from customized_mixup import customized_mixup"
   ]
  },
  {
   "cell_type": "code",
   "execution_count": 3,
   "metadata": {},
   "outputs": [
    {
     "name": "stdout",
     "output_type": "stream",
     "text": [
      "type(img) = <class 'torch.Tensor'>, img.dtype = torch.float32, img.shape = torch.Size([3, 224, 224]), label = 67\n"
     ]
    }
   ],
   "source": [
    "preproc = v2.Compose([\n",
    "    v2.PILToTensor(),\n",
    "    v2.RandomResizedCrop(size=(224, 224), antialias=True),\n",
    "    v2.RandomHorizontalFlip(p=0.5),\n",
    "    v2.ToDtype(torch.float32),  # to float32 in [0, 1]\n",
    "    v2.Normalize(mean=(0.485, 0.456, 0.406), std=(0.229, 0.224, 0.225)),  # typically from ImageNet\n",
    "])\n",
    "NUM_CLASSES = 100\n",
    "dataset = FakeData(size=1000, num_classes=NUM_CLASSES, transform=preproc)\n",
    "\n",
    "img, label = dataset[0]\n",
    "print(f\"{type(img) = }, {img.dtype = }, {img.shape = }, {label = }\")"
   ]
  },
  {
   "cell_type": "code",
   "execution_count": 9,
   "metadata": {},
   "outputs": [
    {
     "name": "stdout",
     "output_type": "stream",
     "text": [
      "Before MixUp: images.shape = torch.Size([4, 3, 224, 224]), labels.shape = torch.Size([4])\n",
      "After MixUp: images.shape = torch.Size([12, 3, 224, 224]), labels.shape = torch.Size([12, 100])\n",
      "Before MixUp: images.shape = torch.Size([4, 3, 224, 224]), labels.shape = torch.Size([4])\n",
      "After MixUp: images.shape = torch.Size([8, 3, 224, 224]), labels.shape = torch.Size([8, 100])\n"
     ]
    }
   ],
   "source": [
    "from torch.utils.data import DataLoader\n",
    "\n",
    "dataloader = DataLoader(dataset, batch_size=4, shuffle=True)\n",
    "\n",
    "for images, labels in dataloader:\n",
    "    print(f\"Before MixUp: {images.shape = }, {labels.shape = }\")\n",
    "    images, labels = customized_mixup(images, labels, NUM_CLASSES, alpha=1.0, mixup_data_only=False, enlarge_scale=2)\n",
    "    print(f\"After MixUp: {images.shape = }, {labels.shape = }\")\n",
    "    # <rest of the training loop here>\n",
    "    break\n",
    "\n",
    "for images, labels in dataloader:\n",
    "    print(f\"Before MixUp: {images.shape = }, {labels.shape = }\")\n",
    "    images, labels = customized_mixup(images, labels, NUM_CLASSES, alpha=1.0, mixup_data_only=True, enlarge_scale=2)\n",
    "    print(f\"After MixUp: {images.shape = }, {labels.shape = }\")\n",
    "    # <rest of the training loop here>\n",
    "    break\n",
    "\n"
   ]
  }
 ],
 "metadata": {
  "kernelspec": {
   "display_name": "torch112",
   "language": "python",
   "name": "python3"
  },
  "language_info": {
   "codemirror_mode": {
    "name": "ipython",
    "version": 3
   },
   "file_extension": ".py",
   "mimetype": "text/x-python",
   "name": "python",
   "nbconvert_exporter": "python",
   "pygments_lexer": "ipython3",
   "version": "3.9.18"
  }
 },
 "nbformat": 4,
 "nbformat_minor": 2
}
